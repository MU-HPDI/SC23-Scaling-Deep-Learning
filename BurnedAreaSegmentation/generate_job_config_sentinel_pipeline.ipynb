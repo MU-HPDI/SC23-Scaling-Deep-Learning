{
 "cells": [
  {
   "cell_type": "code",
   "execution_count": 1,
   "metadata": {},
   "outputs": [],
   "source": [
    "import os, sys\n",
    "\n",
    "from jinja2 import Template\n",
    "import yaml\n",
    "import shutil"
   ]
  },
  {
   "cell_type": "markdown",
   "metadata": {},
   "source": [
    "# OUTLINE"
   ]
  },
  {
   "cell_type": "markdown",
   "metadata": {},
   "source": [
    "[General options](#General-options)  \n",
    "[Job Config file for pulling pipeline code from repo](#Job-Config-file-for-pulling-pipeline-code-from-repo)  \n",
    "[Job for data download](#Job-Config-file-for-data-download)  \n",
    "[Job for data post-processing](#Job-Config-file-for-data-post-processing)  \n",
    "[Job for image filtering and normalization](#Job-Config-file-for-image-filtering-and-normalization)  \n",
    "[Job for creating labels](#Job-Config-file-for-creating-labels)  \n",
    "[Job for generating chips](#Job-Config-file-for-generating-chips)  "
   ]
  },
  {
   "cell_type": "markdown",
   "metadata": {},
   "source": [
    "# Prepare folders"
   ]
  },
  {
   "cell_type": "code",
   "execution_count": 2,
   "metadata": {},
   "outputs": [
    {
     "name": "stdout",
     "output_type": "stream",
     "text": [
      "canada_2019_sentinel_pipeline alredy exists\n",
      "canada_2019_sentinel_pipeline/0.pull_repo\n",
      "canada_2019_sentinel_pipeline/1.download\n",
      "canada_2019_sentinel_pipeline/2.postprocessing\n",
      "canada_2019_sentinel_pipeline/3.normalization\n",
      "canada_2019_sentinel_pipeline/4.create_label\n",
      "canada_2019_sentinel_pipeline/5.generate_chips\n"
     ]
    }
   ],
   "source": [
    "if os.path.exists('canada_2019_sentinel_pipeline'):\n",
    "    print('canada_2019_sentinel_pipeline alredy exists')\n",
    "else:\n",
    "    os.mkdir('canada_2019_sentinel_pipeline')\n",
    "    \n",
    "if os.path.exists('canada_2019_sentinel_pipeline/0.pull_repo'):\n",
    "    print('canada_2019_sentinel_pipeline/0.pull_repo')\n",
    "else:\n",
    "    os.mkdir('canada_2019_sentinel_pipeline/0.pull_repo')\n",
    "    \n",
    "if os.path.exists('canada_2019_sentinel_pipeline/1.download'):\n",
    "    print('canada_2019_sentinel_pipeline/1.download')\n",
    "else:\n",
    "    os.mkdir('canada_2019_sentinel_pipeline/1.download')\n",
    "    \n",
    "if os.path.exists('canada_2019_sentinel_pipeline/2.postprocessing'):\n",
    "    print('canada_2019_sentinel_pipeline/2.postprocessing')\n",
    "else:\n",
    "    os.mkdir('canada_2019_sentinel_pipeline/2.postprocessing')\n",
    "    \n",
    "if os.path.exists('canada_2019_sentinel_pipeline/3.normalization'):\n",
    "    print('canada_2019_sentinel_pipeline/3.normalization')\n",
    "else:\n",
    "    os.mkdir('canada_2019_sentinel_pipeline/3.normalization')\n",
    "\n",
    "if os.path.exists('canada_2019_sentinel_pipeline/4.create_label'):\n",
    "    print('canada_2019_sentinel_pipeline/4.create_label')\n",
    "else:\n",
    "    os.mkdir('canada_2019_sentinel_pipeline/4.create_label')\n",
    "\n",
    "if os.path.exists('canada_2019_sentinel_pipeline/5.generate_chips'):\n",
    "    print('canada_2019_sentinel_pipeline/5.generate_chips')\n",
    "else:\n",
    "    os.mkdir('canada_2019_sentinel_pipeline/5.generate_chips')\n",
    "    "
   ]
  },
  {
   "cell_type": "markdown",
   "metadata": {},
   "source": [
    "# General options"
   ]
  },
  {
   "cell_type": "code",
   "execution_count": 3,
   "metadata": {},
   "outputs": [],
   "source": [
    "# create dictionary that holds all the options for generating all the yml files "
   ]
  },
  {
   "cell_type": "code",
   "execution_count": 4,
   "metadata": {},
   "outputs": [],
   "source": [
    "sets = 5\n",
    "batches = [5,15,49,59,59]\n",
    "pvc_name = 'canada2019-3'\n",
    "mountpath = 'canada'"
   ]
  },
  {
   "cell_type": "code",
   "execution_count": 5,
   "metadata": {},
   "outputs": [
    {
     "data": {
      "text/plain": [
       "{'sets': 5,\n",
       " 'batches': [5, 15, 49, 59, 59],\n",
       " 'pvc_name': 'canada2019-3',\n",
       " 'mountpath': 'canada'}"
      ]
     },
     "execution_count": 5,
     "metadata": {},
     "output_type": "execute_result"
    }
   ],
   "source": [
    "general_options = {'sets':sets,'batches':batches, 'pvc_name':pvc_name,'mountpath':mountpath}\n",
    "general_options"
   ]
  },
  {
   "cell_type": "markdown",
   "metadata": {},
   "source": [
    "# Job Config file for pulling pipeline code from repo"
   ]
  },
  {
   "cell_type": "code",
   "execution_count": 6,
   "metadata": {},
   "outputs": [
    {
     "data": {
      "text/plain": [
       "'\\nthis yml files are used to pull the repo containing the code into appropriate folder\\n'"
      ]
     },
     "execution_count": 6,
     "metadata": {},
     "output_type": "execute_result"
    }
   ],
   "source": [
    "# description:\n",
    "'''\n",
    "this yml files are used to pull the repo containing the code into appropriate folder\n",
    "'''"
   ]
  },
  {
   "cell_type": "markdown",
   "metadata": {},
   "source": [
    "## template"
   ]
  },
  {
   "cell_type": "code",
   "execution_count": 7,
   "metadata": {},
   "outputs": [],
   "source": [
    "template1 ='''apiVersion: batch/v1\n",
    "kind: Job\n",
    "metadata:\n",
    "  name: job-sentinel-pullrepo-{{ set_idx }}-{{ batch }}-3\n",
    "spec:\n",
    "  template:\n",
    "    spec:\n",
    "      containers:\n",
    "      - name: pod-sentinel-pullrepo-{{ set_idx }}-{{ batch }}-3\n",
    "        image: alpine/git\n",
    "        workingDir: /canada/data/set{{ set_idx }}/batch_{{ batch }}\n",
    "        args:\n",
    "          - clone\n",
    "          - --single-branch\n",
    "          - https://gitlab.nrp-nautilus.io/aomqc/sentinel_download\n",
    "          - /{{ mountpath }}/data/set{{ set_idx }}/batch_{{ batch }}        \n",
    "        volumeMounts:\n",
    "        - name: {{ mountpath }}\n",
    "          mountPath: /{{ mountpath }}\n",
    "        resources:\n",
    "            limits:\n",
    "              memory: 1Gi\n",
    "              cpu: \"1\"\n",
    "            requests:\n",
    "              memory: 1Gi\n",
    "              cpu: \"1\"    \n",
    "      volumes:\n",
    "      - name: {{ mountpath }}\n",
    "        persistentVolumeClaim:\n",
    "            claimName: {{ pvc_name }}\n",
    "      restartPolicy: OnFailure      \n",
    "  backoffLimit: \n",
    "'''"
   ]
  },
  {
   "cell_type": "code",
   "execution_count": 8,
   "metadata": {},
   "outputs": [],
   "source": [
    "j2_template1 = Template(template1)"
   ]
  },
  {
   "cell_type": "markdown",
   "metadata": {},
   "source": [
    "## yml generation"
   ]
  },
  {
   "cell_type": "code",
   "execution_count": 9,
   "metadata": {},
   "outputs": [],
   "source": [
    "for set_idx in list(range(general_options['sets'])):\n",
    "    if os.path.exists('canada_2019_sentinel_pipeline/0.pull_repo/set{}'.format(set_idx+1)):\n",
    "        shutil.rmtree('canada_2019_sentinel_pipeline/0.pull_repo/set{}'.format(set_idx+1))\n",
    "    \n",
    "    os.mkdir('canada_2019_sentinel_pipeline/0.pull_repo/set{}'.format(set_idx+1))\n",
    "    \n",
    "    for idx in list(range(general_options['batches'][set_idx])):\n",
    "        \n",
    "        data = {'set_idx':set_idx+1,\n",
    "                'batch':idx,\n",
    "                'pvc_name':general_options['pvc_name'],\n",
    "                'mountpath':general_options['mountpath']}\n",
    "        \n",
    "        output_file = j2_template1.render(data)    \n",
    "        fileout = open('canada_2019_sentinel_pipeline/0.pull_repo/set{}/job-sentinelpullrepo-{}-{}.yaml'.format(set_idx+1,set_idx+1,idx),'w')\n",
    "        fileout.write(output_file)\n",
    "        fileout.close()"
   ]
  },
  {
   "cell_type": "markdown",
   "metadata": {},
   "source": [
    "# Job Config file for data download"
   ]
  },
  {
   "cell_type": "code",
   "execution_count": 10,
   "metadata": {},
   "outputs": [
    {
     "data": {
      "text/plain": [
       "'\\nthis yml files are used to download images from sentinel hub into the specified folder\\nthis operation will be repeated multiple times until all possible images are downloaded\\n'"
      ]
     },
     "execution_count": 10,
     "metadata": {},
     "output_type": "execute_result"
    }
   ],
   "source": [
    "# description:\n",
    "'''\n",
    "this yml files are used to download images from sentinel hub into the specified folder\n",
    "this operation will be repeated multiple times until all possible images are downloaded\n",
    "'''"
   ]
  },
  {
   "cell_type": "markdown",
   "metadata": {},
   "source": [
    "## template"
   ]
  },
  {
   "cell_type": "code",
   "execution_count": 11,
   "metadata": {},
   "outputs": [],
   "source": [
    "template2 ='''apiVersion: batch/v1\n",
    "kind: Job\n",
    "metadata:\n",
    "  name: job-sentinel-download-{{ set_idx }}-{{ batch }}-3\n",
    "spec:\n",
    "  template:\n",
    "    spec:\n",
    "      containers:\n",
    "      - name: pod-sentinel-download-{{ set_idx }}-{{ batch }}-3\n",
    "        image: gitlab-registry.nrp-nautilus.io/aomqc/deeplearning_pytorch:bc1aa4e7\n",
    "        workingDir: /{{ mountpath }}/data/set{{ set_idx }}/batch_{{ batch }}\n",
    "        command: [\"/bin/sh\",\"-c\"]\n",
    "        args:\n",
    "        - chmod 777 dhusget.sh;\n",
    "          python3 sentinel_data_download.py {{username}} {{password}} sentinel_coordinates/Canada_fir_2019_{{ set_idx }}_{{ batch }}.yaml\n",
    "        volumeMounts:\n",
    "        - name: {{ mountpath }}\n",
    "          mountPath: /{{ mountpath }}  \n",
    "        resources:\n",
    "            limits:\n",
    "              memory: 1Gi\n",
    "              cpu: \"1\"\n",
    "            requests:\n",
    "              memory: 1Gi\n",
    "              cpu: \"1\"               \n",
    "      volumes:\n",
    "      - name: {{ mountpath }} \n",
    "        persistentVolumeClaim:\n",
    "            claimName: {{ pvc_name }}\n",
    "      restartPolicy: OnFailure      \n",
    "  backoffLimit: \n",
    "\n",
    "'''"
   ]
  },
  {
   "cell_type": "code",
   "execution_count": 12,
   "metadata": {},
   "outputs": [],
   "source": [
    "j2_template2 = Template(template2)"
   ]
  },
  {
   "cell_type": "markdown",
   "metadata": {},
   "source": [
    "## yml generation"
   ]
  },
  {
   "cell_type": "code",
   "execution_count": 13,
   "metadata": {},
   "outputs": [],
   "source": [
    "for set_idx in list(range(general_options['sets'])):\n",
    "    if os.path.exists('canada_2019_sentinel_pipeline/1.download/set{}'.format(set_idx+1)):\n",
    "        shutil.rmtree('canada_2019_sentinel_pipeline/1.download/set{}'.format(set_idx+1))\n",
    "    os.mkdir('canada_2019_sentinel_pipeline/1.download/set{}'.format(set_idx+1))\n",
    "    \n",
    "    for idx in list(range(general_options['batches'][set_idx])):\n",
    "        data = {'set_idx':set_idx+1,\n",
    "                'batch':idx,\n",
    "                'pvc_name':general_options['pvc_name'],\n",
    "                'mountpath':general_options['mountpath'],\n",
    "                'username':'username',\n",
    "                'password':'password',\n",
    "               }\n",
    "        \n",
    "        output_file = j2_template2.render(data)\n",
    "        fileout = open('canada_2019_sentinel_pipeline/1.download/set{}/job-sentineldownload-{}-{}.yaml'.format(set_idx+1,set_idx+1,idx),'w')\n",
    "        fileout.write(output_file)\n",
    "        fileout.close()"
   ]
  },
  {
   "cell_type": "markdown",
   "metadata": {},
   "source": [
    "# Job Config file for data postprocessing"
   ]
  },
  {
   "cell_type": "code",
   "execution_count": 14,
   "metadata": {},
   "outputs": [
    {
     "data": {
      "text/plain": [
       "'\\nthis yml files are used to process the download images by performing the following steps:\\n    unzip downloaded images in folder PRODUCT and place them in \\n    Separate images based on type to 1C and 2A\\n    Create a folder for each image type\\n    Move each image type to its corresponding folder\\n'"
      ]
     },
     "execution_count": 14,
     "metadata": {},
     "output_type": "execute_result"
    }
   ],
   "source": [
    "# description:\n",
    "'''\n",
    "this yml files are used to process the download images by performing the following steps:\n",
    "    unzip downloaded images in folder PRODUCT and place them in \n",
    "    Separate images based on type to 1C and 2A\n",
    "    Create a folder for each image type\n",
    "    Move each image type to its corresponding folder\n",
    "'''"
   ]
  },
  {
   "cell_type": "markdown",
   "metadata": {},
   "source": [
    "## template"
   ]
  },
  {
   "cell_type": "code",
   "execution_count": 15,
   "metadata": {},
   "outputs": [],
   "source": [
    "template3 ='''apiVersion: batch/v1\n",
    "kind: Job\n",
    "metadata:\n",
    "  name: job-sentinel-postprocess-{{ set_idx }}-{{ batch }}-3\n",
    "spec:\n",
    "  template:\n",
    "    spec:\n",
    "      containers:\n",
    "      - name: pod-sentinel-postprocess-{{ set_idx }}-{{ batch }}-3\n",
    "        image: gitlab-registry.nrp-nautilus.io/aomqc/deeplearning_pytorch:bc1aa4e7\n",
    "        workingDir: /{{ mountpath }}/data/set{{ set_idx }}/batch_{{ batch }}\n",
    "        command: [\"/bin/sh\",\"-c\"]\n",
    "        args:\n",
    "        - python3 sentinel_data_postprocessing.py\n",
    "        volumeMounts:\n",
    "        - name: {{ mountpath }}\n",
    "          mountPath: /{{ mountpath }}  \n",
    "        resources:\n",
    "            limits:\n",
    "              memory: 10Gi\n",
    "              cpu: \"2\"\n",
    "            requests:\n",
    "              memory: 10Gi\n",
    "              cpu: \"2\"               \n",
    "      volumes:\n",
    "      - name: {{ mountpath }} \n",
    "        persistentVolumeClaim:\n",
    "            claimName: {{ pvc_name }}\n",
    "      restartPolicy: OnFailure      \n",
    "  backoffLimit: \n",
    "\n",
    "'''"
   ]
  },
  {
   "cell_type": "code",
   "execution_count": 16,
   "metadata": {},
   "outputs": [],
   "source": [
    "j2_template3 = Template(template3)"
   ]
  },
  {
   "cell_type": "markdown",
   "metadata": {},
   "source": [
    "## yml generation"
   ]
  },
  {
   "cell_type": "code",
   "execution_count": 17,
   "metadata": {},
   "outputs": [],
   "source": [
    "for set_idx in list(range(general_options['sets'])):\n",
    "    if os.path.exists('canada_2019_sentinel_pipeline/2.postprocessing/set{}'.format(set_idx+1)):\n",
    "        shutil.rmtree('canada_2019_sentinel_pipeline/2.postprocessing/set{}'.format(set_idx+1))\n",
    "    os.mkdir('canada_2019_sentinel_pipeline/2.postprocessing/set{}'.format(set_idx+1))\n",
    "    \n",
    "    for idx in list(range(general_options['batches'][set_idx])):\n",
    "        data = {'set_idx':set_idx+1,\n",
    "                'batch':idx,\n",
    "                'pvc_name':general_options['pvc_name'],\n",
    "                'mountpath':general_options['mountpath']}\n",
    "        \n",
    "        output_file = j2_template3.render(data)\n",
    "        fileout = open('canada_2019_sentinel_pipeline/2.postprocessing/set{}/job-sentinelpostprocess-{}-{}.yaml'.format(set_idx+1,set_idx+1,idx),'w')\n",
    "        fileout.write(output_file)\n",
    "        fileout.close()"
   ]
  },
  {
   "cell_type": "markdown",
   "metadata": {},
   "source": [
    "# Job Config file for image filtering and normalization"
   ]
  },
  {
   "cell_type": "code",
   "execution_count": 18,
   "metadata": {},
   "outputs": [
    {
     "data": {
      "text/plain": [
       "'\\nthis code takes in tif files and performs the following:\\n    Filter out images with nodata covering more than 80% of the image\\n    Filter out images where cloud mask covers more than 25% of valid data\\n    Read each band as npy array\\n    normalize bands using one of theese three methods:\\n        Method1:\\n            get *min* of each band\\n            select the minmum among the three as *global min*\\n            compute *25th* and *75th* percentiles for each band\\n            compute *IQR = 75th-25th* for each band\\n            compute *max = 1.5xIQR* for each band\\n            select the top max among all max values of each band as *global max*\\n            compute *global range = global max - global min* \\n            normalize each band using * new_band = (band - global min)/global range*\\n        Method2:\\n        Method3:\\nAt the end bands are stack togther as sinlge numpy array\\n    save numpy array as numpy file\\n    save numpy array as png file \\n'"
      ]
     },
     "execution_count": 18,
     "metadata": {},
     "output_type": "execute_result"
    }
   ],
   "source": [
    "# description\n",
    "'''\n",
    "this code takes in tif files and performs the following:\n",
    "    Filter out images with nodata covering more than 80% of the image\n",
    "    Filter out images where cloud mask covers more than 25% of valid data\n",
    "    Read each band as npy array\n",
    "    normalize bands using one of theese three methods:\n",
    "        Method1:\n",
    "            get *min* of each band\n",
    "            select the minmum among the three as *global min*\n",
    "            compute *25th* and *75th* percentiles for each band\n",
    "            compute *IQR = 75th-25th* for each band\n",
    "            compute *max = 1.5xIQR* for each band\n",
    "            select the top max among all max values of each band as *global max*\n",
    "            compute *global range = global max - global min* \n",
    "            normalize each band using * new_band = (band - global min)/global range*\n",
    "        Method2:\n",
    "        Method3:\n",
    "At the end bands are stack togther as sinlge numpy array\n",
    "    save numpy array as numpy file\n",
    "    save numpy array as png file \n",
    "'''"
   ]
  },
  {
   "cell_type": "markdown",
   "metadata": {},
   "source": [
    "## template"
   ]
  },
  {
   "cell_type": "code",
   "execution_count": 19,
   "metadata": {},
   "outputs": [],
   "source": [
    "template5 ='''apiVersion: batch/v1\n",
    "kind: Job\n",
    "metadata:\n",
    "  name: job-sentinel-normalize-{{ set_idx }}-{{ batch }}-3\n",
    "spec:\n",
    "  template:\n",
    "    spec:\n",
    "      containers:\n",
    "      - name: pod-sentinel-normalize-{{ set_idx }}-{{ batch }}-3\n",
    "        image: gitlab-registry.nrp-nautilus.io/aomqc/deeplearning_pytorch:bc1aa4e7\n",
    "        workingDir: /{{ mountpath }}/data/set{{ set_idx }}/batch_{{ batch }}\n",
    "        command: [\"/bin/sh\",\"-c\"]\n",
    "        args:\n",
    "        - python3 raster_normalize.py --nodata 0.8 --valid 0.25 --norm 2 --source 2A\n",
    "        volumeMounts:\n",
    "        - name: {{ mountpath }}\n",
    "          mountPath: /{{ mountpath }}  \n",
    "        resources:\n",
    "            limits:\n",
    "              memory: 40Gi\n",
    "              cpu: \"2\"\n",
    "              nvidia.com/gpu: 1\n",
    "            requests:\n",
    "              memory: 40Gi\n",
    "              cpu: \"2\"\n",
    "              nvidia.com/gpu: 1\n",
    "      volumes:\n",
    "      - name: {{ mountpath }} \n",
    "        persistentVolumeClaim:\n",
    "            claimName: {{ pvc_name }}\n",
    "      restartPolicy: OnFailure      \n",
    "  backoffLimit: \n",
    "\n",
    "'''"
   ]
  },
  {
   "cell_type": "code",
   "execution_count": 20,
   "metadata": {},
   "outputs": [],
   "source": [
    "j2_template5 = Template(template5)"
   ]
  },
  {
   "cell_type": "markdown",
   "metadata": {},
   "source": [
    "## yml generation"
   ]
  },
  {
   "cell_type": "code",
   "execution_count": 21,
   "metadata": {},
   "outputs": [],
   "source": [
    "for set_idx in list(range(general_options['sets'])):\n",
    "    if os.path.exists('canada_2019_sentinel_pipeline/3.normalization/set{}'.format(set_idx+1)):\n",
    "        shutil.rmtree('canada_2019_sentinel_pipeline/3.normalization/set{}'.format(set_idx+1))\n",
    "    os.mkdir('canada_2019_sentinel_pipeline/3.normalization/set{}'.format(set_idx+1))\n",
    "    \n",
    "    for idx in list(range(general_options['batches'][set_idx])):\n",
    "        data = {'set_idx':set_idx+1,\n",
    "                'batch':idx,\n",
    "                'pvc_name':general_options['pvc_name'],\n",
    "                'mountpath':general_options['mountpath']}\n",
    "        \n",
    "        output_file = j2_template5.render(data)\n",
    "        fileout = open('canada_2019_sentinel_pipeline/3.normalization/set{}/job-sentinelnormalize-{}-{}.yaml'.format(set_idx+1,set_idx+1,idx),'w')\n",
    "        fileout.write(output_file)\n",
    "        fileout.close()"
   ]
  },
  {
   "cell_type": "markdown",
   "metadata": {},
   "source": [
    "# Job Config file for creating labels"
   ]
  },
  {
   "cell_type": "code",
   "execution_count": 22,
   "metadata": {},
   "outputs": [
    {
     "data": {
      "text/plain": [
       "'\\nThis yml config runs the code that generate labels by doing the following:\\n    Read group of polygons representing burned area\\n    Read image tif file\\n    convert tif image into polygon using its bounds\\n    intersect burned area polygons with image polygons\\n    if the intersection generates polygons plot them on a matrix with the same dimension as the image (label array)\\n    save label array as npy\\n    save label array as png\\n'"
      ]
     },
     "execution_count": 22,
     "metadata": {},
     "output_type": "execute_result"
    }
   ],
   "source": [
    "# description\n",
    "'''\n",
    "This yml config runs the code that generate labels by doing the following:\n",
    "    Read group of polygons representing burned area\n",
    "    Read image tif file\n",
    "    convert tif image into polygon using its bounds\n",
    "    intersect burned area polygons with image polygons\n",
    "    if the intersection generates polygons plot them on a matrix with the same dimension as the image (label array)\n",
    "    save label array as npy\n",
    "    save label array as png\n",
    "'''"
   ]
  },
  {
   "cell_type": "markdown",
   "metadata": {},
   "source": [
    "## template"
   ]
  },
  {
   "cell_type": "code",
   "execution_count": 23,
   "metadata": {},
   "outputs": [],
   "source": [
    "template7 ='''apiVersion: batch/v1\n",
    "kind: Job\n",
    "metadata:\n",
    "  name: job-sentinel-createlabel-{{ set_idx }}-{{ batch }}-3\n",
    "spec:\n",
    "  template:\n",
    "    spec:\n",
    "      containers:\n",
    "      - name: pod-sentinel-createlabel-{{ set_idx }}-{{ batch }}-3\n",
    "        image: gitlab-registry.nrp-nautilus.io/aomqc/deeplearning_pytorch:bc1aa4e7\n",
    "        workingDir: /{{ mountpath }}/data/set{{ set_idx }}/batch_{{ batch }}\n",
    "        command: [\"/bin/sh\",\"-c\"]\n",
    "        args:\n",
    "        - python3 create_label.py --poly CanadaFull_firearea_polygons_set_{{ set_idx }}.shp\n",
    "        volumeMounts:\n",
    "        - name: {{ mountpath }}\n",
    "          mountPath: /{{ mountpath }}  \n",
    "        resources:\n",
    "            limits:\n",
    "              memory: 40Gi\n",
    "              cpu: \"2\"\n",
    "              nvidia.com/gpu: 2\n",
    "            requests:\n",
    "              memory: 40Gi\n",
    "              cpu: \"2\"\n",
    "              nvidia.com/gpu: 2               \n",
    "      volumes:\n",
    "      - name: {{ mountpath }} \n",
    "        persistentVolumeClaim:\n",
    "            claimName: {{ pvc_name }}\n",
    "      restartPolicy: OnFailure      \n",
    "  backoffLimit: \n",
    "\n",
    "'''"
   ]
  },
  {
   "cell_type": "code",
   "execution_count": 24,
   "metadata": {},
   "outputs": [],
   "source": [
    "j2_template7 = Template(template7)"
   ]
  },
  {
   "cell_type": "markdown",
   "metadata": {},
   "source": [
    "## yml generation"
   ]
  },
  {
   "cell_type": "code",
   "execution_count": 25,
   "metadata": {},
   "outputs": [],
   "source": [
    "for set_idx in list(range(general_options['sets'])):\n",
    "    if os.path.exists('canada_2019_sentinel_pipeline/4.create_label/set{}'.format(set_idx+1)):\n",
    "        shutil.rmtree('canada_2019_sentinel_pipeline/4.create_label/set{}'.format(set_idx+1))\n",
    "    os.mkdir('canada_2019_sentinel_pipeline/4.create_label/set{}'.format(set_idx+1))\n",
    "    \n",
    "    for idx in list(range(general_options['batches'][set_idx])):\n",
    "        data = {'set_idx':set_idx+1,\n",
    "                'batch':idx,\n",
    "                'pvc_name':general_options['pvc_name'],\n",
    "                'mountpath':general_options['mountpath']}\n",
    "        \n",
    "        output_file = j2_template7.render(data)\n",
    "        fileout = open('canada_2019_sentinel_pipeline/4.create_label/set{}/job-sentinelcreatelabel-{}-{}.yaml'.format(set_idx+1,set_idx+1,idx),'w')\n",
    "        fileout.write(output_file)\n",
    "        fileout.close()"
   ]
  },
  {
   "cell_type": "markdown",
   "metadata": {},
   "source": [
    "# Job Config file for generating chips"
   ]
  },
  {
   "cell_type": "code",
   "execution_count": 26,
   "metadata": {},
   "outputs": [
    {
     "data": {
      "text/plain": [
       "'\\n'"
      ]
     },
     "execution_count": 26,
     "metadata": {},
     "output_type": "execute_result"
    }
   ],
   "source": [
    "# description\n",
    "'''\n",
    "'''"
   ]
  },
  {
   "cell_type": "markdown",
   "metadata": {},
   "source": [
    "## template"
   ]
  },
  {
   "cell_type": "code",
   "execution_count": 27,
   "metadata": {},
   "outputs": [],
   "source": [
    "template8 ='''apiVersion: batch/v1\n",
    "kind: Job\n",
    "metadata:\n",
    "  name: job-sentinel-generatechips-{{ set_idx }}-{{ batch }}-3\n",
    "spec:\n",
    "  template:\n",
    "    spec:\n",
    "      containers:\n",
    "      - name: pod-sentinel-generatechips-{{ set_idx }}-{{ batch }}-3\n",
    "        image: gitlab-registry.nrp-nautilus.io/aomqc/deeplearning_pytorch:bc1aa4e7\n",
    "        workingDir: /{{ mountpath }}/data/set{{ set_idx }}/batch_{{ batch }}\n",
    "        command: [\"/bin/sh\",\"-c\"]\n",
    "        args:\n",
    "        - python3 generate_chips.py --csize 256 --cratio 0.25\n",
    "        volumeMounts:\n",
    "        - name: {{ mountpath }}\n",
    "          mountPath: /{{ mountpath }}  \n",
    "        resources:\n",
    "            limits:\n",
    "              memory: 40Gi\n",
    "              cpu: \"2\"\n",
    "              nvidia.com/gpu: 2\n",
    "            requests:\n",
    "              memory: 40Gi\n",
    "              cpu: \"2\"\n",
    "              nvidia.com/gpu: 2\n",
    "      volumes:\n",
    "      - name: {{ mountpath }} \n",
    "        persistentVolumeClaim:\n",
    "            claimName: {{ pvc_name }}\n",
    "      restartPolicy: OnFailure      \n",
    "  backoffLimit: \n",
    "\n",
    "'''"
   ]
  },
  {
   "cell_type": "code",
   "execution_count": 28,
   "metadata": {},
   "outputs": [],
   "source": [
    "j2_template8 = Template(template8)"
   ]
  },
  {
   "cell_type": "markdown",
   "metadata": {},
   "source": [
    "## yml generation"
   ]
  },
  {
   "cell_type": "code",
   "execution_count": 29,
   "metadata": {},
   "outputs": [],
   "source": [
    "for set_idx in list(range(general_options['sets'])):\n",
    "    if os.path.exists('canada_2019_sentinel_pipeline/5.generate_chips/set{}'.format(set_idx+1)):\n",
    "        shutil.rmtree('canada_2019_sentinel_pipeline/5.generate_chips/set{}'.format(set_idx+1))\n",
    "    os.mkdir('canada_2019_sentinel_pipeline/5.generate_chips/set{}'.format(set_idx+1))\n",
    "    \n",
    "    for idx in list(range(general_options['batches'][set_idx])):\n",
    "        data = {'set_idx':set_idx+1,\n",
    "                'batch':idx,\n",
    "                'pvc_name':general_options['pvc_name'],\n",
    "                'mountpath':general_options['mountpath']}\n",
    "        \n",
    "        output_file = j2_template8.render(data)\n",
    "        fileout = open('canada_2019_sentinel_pipeline/5.generate_chips/set{}/job-sentinelgeneratechips-{}-{}.yaml'.format(set_idx+1,set_idx+1,idx),'w')\n",
    "        fileout.write(output_file)\n",
    "        fileout.close()"
   ]
  },
  {
   "cell_type": "code",
   "execution_count": null,
   "metadata": {},
   "outputs": [],
   "source": []
  }
 ],
 "metadata": {
  "kernelspec": {
   "display_name": "Python 3 (ipykernel)",
   "language": "python",
   "name": "python3"
  },
  "language_info": {
   "codemirror_mode": {
    "name": "ipython",
    "version": 3
   },
   "file_extension": ".py",
   "mimetype": "text/x-python",
   "name": "python",
   "nbconvert_exporter": "python",
   "pygments_lexer": "ipython3",
   "version": "3.9.13"
  }
 },
 "nbformat": 4,
 "nbformat_minor": 4
}
