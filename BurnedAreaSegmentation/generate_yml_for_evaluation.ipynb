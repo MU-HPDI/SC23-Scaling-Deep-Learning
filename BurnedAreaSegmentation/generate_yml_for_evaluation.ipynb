{
 "cells": [
  {
   "cell_type": "code",
   "execution_count": 1,
   "id": "6c369793",
   "metadata": {},
   "outputs": [],
   "source": [
    "import os\n",
    "import sys\n",
    "import yaml\n",
    "import shutil\n",
    "from jinja2 import Template"
   ]
  },
  {
   "cell_type": "markdown",
   "id": "92ef3a79",
   "metadata": {},
   "source": [
    "# Prepare folders"
   ]
  },
  {
   "cell_type": "code",
   "execution_count": 2,
   "id": "f80cd8cf",
   "metadata": {},
   "outputs": [],
   "source": [
    "source_dir = 'experiments_2'"
   ]
  },
  {
   "cell_type": "code",
   "execution_count": 3,
   "id": "2c29fe8c",
   "metadata": {},
   "outputs": [
    {
     "name": "stdout",
     "output_type": "stream",
     "text": [
      "experiments_2 already exists\n",
      "experiments_2/exp1 already exists\n",
      "experiments_2/exp2 already exists\n",
      "experiments_2/exp3 already exists\n",
      "experiments_2/exp4 already exists\n"
     ]
    }
   ],
   "source": [
    "if os.path.exists('{}'.format(source_dir)):\n",
    "    print('{} already exists'.format(source_dir))\n",
    "else:\n",
    "    os.mkdir('{}'.format())\n",
    "\n",
    "for exp in list(range(4)):\n",
    "    if os.path.exists('{}/exp{}'.format(source_dir,exp+1)):\n",
    "        print('{}/exp{} already exists'.format(source_dir,exp+1))\n",
    "    else:\n",
    "        os.mkdir('{}/exp{}'.format(source_dir,exp+1))\n"
   ]
  },
  {
   "cell_type": "markdown",
   "id": "7f8d8dba",
   "metadata": {},
   "source": [
    "# yml to test with last model"
   ]
  },
  {
   "cell_type": "markdown",
   "id": "70aa02ec",
   "metadata": {},
   "source": [
    "## template:"
   ]
  },
  {
   "cell_type": "code",
   "execution_count": 4,
   "id": "103bf928",
   "metadata": {},
   "outputs": [],
   "source": [
    "template1 ='''apiVersion: batch/v1\n",
    "kind: Job\n",
    "metadata:\n",
    "  name: anes-job-evaluate-exp{{ exp_num }}-testdata-lastmodel\n",
    "spec:\n",
    "  template:\n",
    "    spec:\n",
    "      containers:\n",
    "      - name: anes-pod-evaluate-exp{{ exp_num }}-testdata\n",
    "        image: gitlab-registry.nrp-nautilus.io/jhurt/cgisegment:e98e742e\n",
    "        #workingDir: /workspace/\n",
    "        command: [\"/bin/sh\",\"-c\"]\n",
    "        args:\n",
    "        - python3 main.py --task test --output_dir /canada2019-3/{{sourcedir}}/exp{{ exp_num }}/output_dir_deeplabv3_img/last --config /canada2019-3/{{sourcedir}}/exp{{ exp_num }}/configs/deeplabv3_img_testing_config_last.json;\n",
    "          python3 main.py --task test --output_dir /canada2019-3/{{sourcedir}}/exp{{ exp_num }}/output_dir_deeplabv3_tci/last --config /canada2019-3/{{sourcedir}}/exp{{ exp_num }}/configs/deeplabv3_tci_testing_config_last.json;\n",
    "          python3 main.py --task test --output_dir /canada2019-3/{{sourcedir}}/exp{{ exp_num }}/output_dir_deeplabv3plus_img/last --config /canada2019-3/{{sourcedir}}/exp{{ exp_num }}/configs/deeplabv3plus_img_testing_config_last.json;\n",
    "          python3 main.py --task test --output_dir /canada2019-3/{{sourcedir}}/exp{{ exp_num }}/output_dir_deeplabv3plus_tci/last --config /canada2019-3/{{sourcedir}}/exp{{ exp_num }}/configs/deeplabv3plus_tci_testing_config_last.json;\n",
    "          python3 main.py --task test --output_dir /canada2019-3/{{sourcedir}}/exp{{ exp_num }}/output_dir_unet_img/last --config /canada2019-3/{{sourcedir}}/exp{{ exp_num }}/configs/unet_img_testing_config_last.json;\n",
    "          python3 main.py --task test --output_dir /canada2019-3/{{sourcedir}}/exp{{ exp_num }}/output_dir_unetplus_img/last --config /canada2019-3/{{sourcedir}}/exp{{ exp_num }}/configs/unetplus_img_testing_config_last.json;\n",
    "          python3 main.py --task test --output_dir /canada2019-3/{{sourcedir}}/exp{{ exp_num }}/output_dir_unet_tci/last --config /canada2019-3/{{sourcedir}}/exp{{ exp_num }}/configs/unet_tci_testing_config_last.json;\n",
    "          python3 main.py --task test --output_dir /canada2019-3/{{sourcedir}}/exp{{ exp_num }}/output_dir_unetplus_tci/last --config /canada2019-3/{{sourcedir}}/exp{{ exp_num }}/configs/unetplus_tci_testing_config_last.json\n",
    "        volumeMounts:\n",
    "        - name: canada2019-3\n",
    "          mountPath: /canada2019-3  \n",
    "        resources:\n",
    "            limits:\n",
    "              memory: 10Gi\n",
    "              cpu: \"2\"\n",
    "              nvidia.com/gpu: 1\n",
    "            requests:\n",
    "              memory: 10Gi\n",
    "              cpu: \"2\"\n",
    "              nvidia.com/gpu: 1\n",
    "      volumes:\n",
    "      - name: canada2019-3 \n",
    "        persistentVolumeClaim:\n",
    "            claimName: canada2019-3\n",
    "      restartPolicy: OnFailure      \n",
    "  backoffLimit: \n",
    "\n",
    "'''"
   ]
  },
  {
   "cell_type": "code",
   "execution_count": 5,
   "id": "f248f52a",
   "metadata": {},
   "outputs": [],
   "source": [
    "j2_template1 = Template(template1)"
   ]
  },
  {
   "cell_type": "markdown",
   "id": "8341a0ac",
   "metadata": {},
   "source": [
    "## yml file generation"
   ]
  },
  {
   "cell_type": "code",
   "execution_count": 6,
   "id": "a2163466",
   "metadata": {},
   "outputs": [],
   "source": [
    "for exp in list(range(4)):\n",
    "    exp_num = exp + 1\n",
    "    \n",
    "    if not os.path.exists('{}/exp{}'.format(source_dir,exp_num)):\n",
    "        os.mkdir('{}/exp{}'.format(source_dir,exp_num))\n",
    "    else:\n",
    "        data = {'sourcedir':source_dir,\n",
    "                'exp_num':exp_num}\n",
    "        \n",
    "        output_file = j2_template1.render(data)\n",
    "\n",
    "        fileout = open('{}/exp{}/job_evaluate_testdata_exp{}_lastmodel.yaml'.format(source_dir,exp_num,exp_num),'w')\n",
    "        fileout.write(output_file)\n",
    "        fileout.close()"
   ]
  },
  {
   "cell_type": "markdown",
   "id": "80746d95",
   "metadata": {},
   "source": [
    "# yml to test with lost validation loss model"
   ]
  },
  {
   "cell_type": "markdown",
   "id": "63f2c844",
   "metadata": {},
   "source": [
    "## template:"
   ]
  },
  {
   "cell_type": "code",
   "execution_count": 7,
   "id": "98c88a20",
   "metadata": {},
   "outputs": [],
   "source": [
    "template2 ='''apiVersion: batch/v1\n",
    "kind: Job\n",
    "metadata:\n",
    "  name: anes-job-evaluate-exp{{ exp_num }}-testdata-lowestmodel\n",
    "spec:\n",
    "  template:\n",
    "    spec:\n",
    "      containers:\n",
    "      - name: anes-pod-evaluate-exp{{ exp_num }}-testdata\n",
    "        image: gitlab-registry.nrp-nautilus.io/jhurt/cgisegment:e98e742e\n",
    "        #workingDir: /workspace/\n",
    "        command: [\"/bin/sh\",\"-c\"]\n",
    "        args:\n",
    "        - python3 main.py --task test --output_dir /canada2019-3/{{sourcedir}}/exp{{ exp_num }}/output_dir_deeplabv3_img/lowest --config /canada2019-3/{{sourcedir}}/exp{{ exp_num }}/configs/deeplabv3_img_testing_config_lowest.json;\n",
    "          python3 main.py --task test --output_dir /canada2019-3/{{sourcedir}}/exp{{ exp_num }}/output_dir_deeplabv3_tci/lowest --config /canada2019-3/{{sourcedir}}/exp{{ exp_num }}/configs/deeplabv3_tci_testing_config_lowest.json;\n",
    "          python3 main.py --task test --output_dir /canada2019-3/{{sourcedir}}/exp{{ exp_num }}/output_dir_deeplabv3plus_img/lowest --config /canada2019-3/{{sourcedir}}/exp{{ exp_num }}/configs/deeplabv3plus_img_testing_config_lowest.json;\n",
    "          python3 main.py --task test --output_dir /canada2019-3/{{sourcedir}}/exp{{ exp_num }}/output_dir_deeplabv3plus_tci/lowest --config /canada2019-3/{{sourcedir}}/exp{{ exp_num }}/configs/deeplabv3plus_tci_testing_config_lowest.json;\n",
    "          python3 main.py --task test --output_dir /canada2019-3/{{sourcedir}}/exp{{ exp_num }}/output_dir_unet_img/lowest --config /canada2019-3/{{sourcedir}}/exp{{ exp_num }}/configs/unet_img_testing_config_lowest.json;\n",
    "          python3 main.py --task test --output_dir /canada2019-3/{{sourcedir}}/exp{{ exp_num }}/output_dir_unetplus_img/lowest --config /canada2019-3/{{sourcedir}}/exp{{ exp_num }}/configs/unetplus_img_testing_config_lowest.json;\n",
    "          python3 main.py --task test --output_dir /canada2019-3/{{sourcedir}}/exp{{ exp_num }}/output_dir_unet_tci/lowest --config /canada2019-3/{{sourcedir}}/exp{{ exp_num }}/configs/unet_tci_testing_config_lowest.json;\n",
    "          python3 main.py --task test --output_dir /canada2019-3/{{sourcedir}}/exp{{ exp_num }}/output_dir_unetplus_tci/lowest --config /canada2019-3/{{sourcedir}}/exp{{ exp_num }}/configs/unetplus_tci_testing_config_lowest.json\n",
    "        volumeMounts:\n",
    "        - name: canada2019-3\n",
    "          mountPath: /canada2019-3  \n",
    "        resources:\n",
    "            limits:\n",
    "              memory: 10Gi\n",
    "              cpu: \"2\"\n",
    "              nvidia.com/gpu: 1\n",
    "            requests:\n",
    "              memory: 10Gi\n",
    "              cpu: \"2\"\n",
    "              nvidia.com/gpu: 1\n",
    "      volumes:\n",
    "      - name: canada2019-3 \n",
    "        persistentVolumeClaim:\n",
    "            claimName: canada2019-3\n",
    "      restartPolicy: OnFailure      \n",
    "  backoffLimit: \n",
    "\n",
    "'''"
   ]
  },
  {
   "cell_type": "code",
   "execution_count": 8,
   "id": "c75d2bd7",
   "metadata": {},
   "outputs": [],
   "source": [
    "j2_template2 = Template(template2)"
   ]
  },
  {
   "cell_type": "markdown",
   "id": "ebdb6c05",
   "metadata": {},
   "source": [
    "# yml file generation"
   ]
  },
  {
   "cell_type": "code",
   "execution_count": 9,
   "id": "680addc2",
   "metadata": {},
   "outputs": [],
   "source": [
    "for exp in list(range(18)):\n",
    "    exp_num = exp + 1\n",
    "    \n",
    "    if not os.path.exists('{}/exp{}'.format(source_dir,exp_num)):\n",
    "        os.mkdir('{}/exp{}'.format(source_dir,exp_num))\n",
    "    else:\n",
    "        data = {'sourcedir':source_dir,\n",
    "                'exp_num':exp_num}\n",
    "        \n",
    "        output_file = j2_template2.render(data)\n",
    "\n",
    "        fileout = open('{}/exp{}/job_evaluate_testdata_exp{}_lowestmodel.yaml'.format(source_dir,exp_num,exp_num),'w')\n",
    "        fileout.write(output_file)\n",
    "        fileout.close()"
   ]
  },
  {
   "cell_type": "code",
   "execution_count": null,
   "id": "c6bd503f",
   "metadata": {},
   "outputs": [],
   "source": []
  }
 ],
 "metadata": {
  "kernelspec": {
   "display_name": "Python 3 (ipykernel)",
   "language": "python",
   "name": "python3"
  },
  "language_info": {
   "codemirror_mode": {
    "name": "ipython",
    "version": 3
   },
   "file_extension": ".py",
   "mimetype": "text/x-python",
   "name": "python",
   "nbconvert_exporter": "python",
   "pygments_lexer": "ipython3",
   "version": "3.9.13"
  }
 },
 "nbformat": 4,
 "nbformat_minor": 5
}
